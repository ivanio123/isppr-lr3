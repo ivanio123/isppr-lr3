{
 "cells": [
  {
   "cell_type": "code",
   "execution_count": 26,
   "id": "2a71bcf5-96b8-49da-9643-e20b9889e133",
   "metadata": {
    "tags": []
   },
   "outputs": [],
   "source": [
    "import pandas as pd\n",
    "import numpy as np"
   ]
  },
  {
   "cell_type": "code",
   "execution_count": 27,
   "id": "20458bd5-41b4-48fb-9ec9-7f7e0c362589",
   "metadata": {
    "tags": []
   },
   "outputs": [],
   "source": [
    "X = pd.read_csv('X_task.csv')\n",
    "Y = pd.read_csv('Y_task.csv')\n",
    "Z = pd.read_csv('Z_task.csv', index_col='index')"
   ]
  },
  {
   "cell_type": "code",
   "execution_count": 28,
   "id": "0fb47dd9-166a-42be-aa43-5ffcf3527e1f",
   "metadata": {
    "tags": []
   },
   "outputs": [
    {
     "data": {
      "text/html": [
       "<div>\n",
       "<style scoped>\n",
       "    .dataframe tbody tr th:only-of-type {\n",
       "        vertical-align: middle;\n",
       "    }\n",
       "\n",
       "    .dataframe tbody tr th {\n",
       "        vertical-align: top;\n",
       "    }\n",
       "\n",
       "    .dataframe thead th {\n",
       "        text-align: right;\n",
       "    }\n",
       "</style>\n",
       "<table border=\"1\" class=\"dataframe\">\n",
       "  <thead>\n",
       "    <tr style=\"text-align: right;\">\n",
       "      <th></th>\n",
       "      <th>Х1</th>\n",
       "      <th>Х2</th>\n",
       "      <th>Х3</th>\n",
       "      <th>Х4</th>\n",
       "    </tr>\n",
       "  </thead>\n",
       "  <tbody>\n",
       "    <tr>\n",
       "      <th>0</th>\n",
       "      <td>0.22</td>\n",
       "      <td>15.3</td>\n",
       "      <td>1.50</td>\n",
       "      <td>134</td>\n",
       "    </tr>\n",
       "    <tr>\n",
       "      <th>1</th>\n",
       "      <td>0.38</td>\n",
       "      <td>14.2</td>\n",
       "      <td>1.80</td>\n",
       "      <td>93</td>\n",
       "    </tr>\n",
       "    <tr>\n",
       "      <th>2</th>\n",
       "      <td>0.45</td>\n",
       "      <td>16.8</td>\n",
       "      <td>1.55</td>\n",
       "      <td>126</td>\n",
       "    </tr>\n",
       "    <tr>\n",
       "      <th>3</th>\n",
       "      <td>0.28</td>\n",
       "      <td>18.2</td>\n",
       "      <td>1.18</td>\n",
       "      <td>90</td>\n",
       "    </tr>\n",
       "    <tr>\n",
       "      <th>4</th>\n",
       "      <td>0.45</td>\n",
       "      <td>19.0</td>\n",
       "      <td>1.35</td>\n",
       "      <td>139</td>\n",
       "    </tr>\n",
       "    <tr>\n",
       "      <th>5</th>\n",
       "      <td>0.53</td>\n",
       "      <td>18.2</td>\n",
       "      <td>1.43</td>\n",
       "      <td>113</td>\n",
       "    </tr>\n",
       "    <tr>\n",
       "      <th>6</th>\n",
       "      <td>0.29</td>\n",
       "      <td>14.3</td>\n",
       "      <td>1.29</td>\n",
       "      <td>104</td>\n",
       "    </tr>\n",
       "  </tbody>\n",
       "</table>\n",
       "</div>"
      ],
      "text/plain": [
       "     Х1    Х2    Х3   Х4\n",
       "0  0.22  15.3  1.50  134\n",
       "1  0.38  14.2  1.80   93\n",
       "2  0.45  16.8  1.55  126\n",
       "3  0.28  18.2  1.18   90\n",
       "4  0.45  19.0  1.35  139\n",
       "5  0.53  18.2  1.43  113\n",
       "6  0.29  14.3  1.29  104"
      ]
     },
     "execution_count": 28,
     "metadata": {},
     "output_type": "execute_result"
    }
   ],
   "source": [
    "X"
   ]
  },
  {
   "cell_type": "code",
   "execution_count": 29,
   "id": "1fe08d34-7fa6-487e-8a7e-57a13dd6d0db",
   "metadata": {
    "tags": []
   },
   "outputs": [
    {
     "data": {
      "text/html": [
       "<div>\n",
       "<style scoped>\n",
       "    .dataframe tbody tr th:only-of-type {\n",
       "        vertical-align: middle;\n",
       "    }\n",
       "\n",
       "    .dataframe tbody tr th {\n",
       "        vertical-align: top;\n",
       "    }\n",
       "\n",
       "    .dataframe thead th {\n",
       "        text-align: right;\n",
       "    }\n",
       "</style>\n",
       "<table border=\"1\" class=\"dataframe\">\n",
       "  <thead>\n",
       "    <tr style=\"text-align: right;\">\n",
       "      <th></th>\n",
       "      <th>Х1</th>\n",
       "      <th>Х2</th>\n",
       "      <th>Х3</th>\n",
       "      <th>Х4</th>\n",
       "    </tr>\n",
       "  </thead>\n",
       "  <tbody>\n",
       "    <tr>\n",
       "      <th>0</th>\n",
       "      <td>0.41</td>\n",
       "      <td>15.5</td>\n",
       "      <td>1.20</td>\n",
       "      <td>105</td>\n",
       "    </tr>\n",
       "    <tr>\n",
       "      <th>1</th>\n",
       "      <td>0.32</td>\n",
       "      <td>12.3</td>\n",
       "      <td>1.15</td>\n",
       "      <td>65</td>\n",
       "    </tr>\n",
       "    <tr>\n",
       "      <th>2</th>\n",
       "      <td>0.43</td>\n",
       "      <td>11.2</td>\n",
       "      <td>1.18</td>\n",
       "      <td>75</td>\n",
       "    </tr>\n",
       "    <tr>\n",
       "      <th>3</th>\n",
       "      <td>0.62</td>\n",
       "      <td>17.8</td>\n",
       "      <td>1.17</td>\n",
       "      <td>100</td>\n",
       "    </tr>\n",
       "    <tr>\n",
       "      <th>4</th>\n",
       "      <td>0.84</td>\n",
       "      <td>16.8</td>\n",
       "      <td>1.22</td>\n",
       "      <td>115</td>\n",
       "    </tr>\n",
       "    <tr>\n",
       "      <th>5</th>\n",
       "      <td>0.93</td>\n",
       "      <td>12.8</td>\n",
       "      <td>1.16</td>\n",
       "      <td>85</td>\n",
       "    </tr>\n",
       "    <tr>\n",
       "      <th>6</th>\n",
       "      <td>0.54</td>\n",
       "      <td>12.2</td>\n",
       "      <td>1.17</td>\n",
       "      <td>80</td>\n",
       "    </tr>\n",
       "  </tbody>\n",
       "</table>\n",
       "</div>"
      ],
      "text/plain": [
       "     Х1    Х2    Х3   Х4\n",
       "0  0.41  15.5  1.20  105\n",
       "1  0.32  12.3  1.15   65\n",
       "2  0.43  11.2  1.18   75\n",
       "3  0.62  17.8  1.17  100\n",
       "4  0.84  16.8  1.22  115\n",
       "5  0.93  12.8  1.16   85\n",
       "6  0.54  12.2  1.17   80"
      ]
     },
     "execution_count": 29,
     "metadata": {},
     "output_type": "execute_result"
    }
   ],
   "source": [
    "Y"
   ]
  },
  {
   "cell_type": "code",
   "execution_count": 30,
   "id": "a780a6a5-3065-441e-b7fa-211c3e195b9d",
   "metadata": {
    "tags": []
   },
   "outputs": [
    {
     "data": {
      "text/html": [
       "<div>\n",
       "<style scoped>\n",
       "    .dataframe tbody tr th:only-of-type {\n",
       "        vertical-align: middle;\n",
       "    }\n",
       "\n",
       "    .dataframe tbody tr th {\n",
       "        vertical-align: top;\n",
       "    }\n",
       "\n",
       "    .dataframe thead th {\n",
       "        text-align: right;\n",
       "    }\n",
       "</style>\n",
       "<table border=\"1\" class=\"dataframe\">\n",
       "  <thead>\n",
       "    <tr style=\"text-align: right;\">\n",
       "      <th></th>\n",
       "      <th>Х1</th>\n",
       "      <th>Х2</th>\n",
       "      <th>Х3</th>\n",
       "      <th>Х4</th>\n",
       "    </tr>\n",
       "    <tr>\n",
       "      <th>index</th>\n",
       "      <th></th>\n",
       "      <th></th>\n",
       "      <th></th>\n",
       "      <th></th>\n",
       "    </tr>\n",
       "  </thead>\n",
       "  <tbody>\n",
       "    <tr>\n",
       "      <th>z1</th>\n",
       "      <td>0.3</td>\n",
       "      <td>13.23</td>\n",
       "      <td>1.31</td>\n",
       "      <td>103</td>\n",
       "    </tr>\n",
       "    <tr>\n",
       "      <th>z2</th>\n",
       "      <td>1.3</td>\n",
       "      <td>19.30</td>\n",
       "      <td>1.28</td>\n",
       "      <td>107</td>\n",
       "    </tr>\n",
       "  </tbody>\n",
       "</table>\n",
       "</div>"
      ],
      "text/plain": [
       "        Х1     Х2    Х3   Х4\n",
       "index                       \n",
       "z1     0.3  13.23  1.31  103\n",
       "z2     1.3  19.30  1.28  107"
      ]
     },
     "execution_count": 30,
     "metadata": {},
     "output_type": "execute_result"
    }
   ],
   "source": [
    "Z"
   ]
  },
  {
   "cell_type": "code",
   "execution_count": 31,
   "id": "9118d6b3-7e3c-4d68-83e4-b61602fe8c6e",
   "metadata": {
    "tags": []
   },
   "outputs": [
    {
     "name": "stdout",
     "output_type": "stream",
     "text": [
      "Sx:\n",
      "[[  0.01   0.1    0.     0.36]\n",
      " [  0.1    3.38  -0.17   9.98]\n",
      " [  0.    -0.17   0.03   0.07]\n",
      " [  0.36   9.98   0.07 326.69]]\n",
      "Sy:\n",
      "[[  0.04   0.16   0.     1.68]\n",
      " [  0.16   5.7    0.03  34.2 ]\n",
      " [  0.     0.03   0.     0.31]\n",
      " [  1.68  34.2    0.31 274.49]]\n"
     ]
    }
   ],
   "source": [
    "def get_cov_matrix(df):\n",
    "    m = df.values\n",
    "    cols = m.shape[1]\n",
    "    cov_matrix = np.zeros((cols,cols), dtype=np.float32)\n",
    "    \n",
    "    for i in range(cols):\n",
    "        for j in range(cols):\n",
    "            p1 = m[:, i]\n",
    "            p2 = m[:, j]\n",
    "            cov_matrix[i,j] = np.mean((p1 - np.mean(p1))*(p2 - np.mean(p2)))\n",
    "    \n",
    "    return cov_matrix\n",
    "\n",
    "np.set_printoptions(suppress=True)\n",
    "np.set_printoptions(precision=2)\n",
    "\n",
    "Sx = get_cov_matrix(X)\n",
    "Sy = get_cov_matrix(Y)\n",
    "\n",
    "print('Sx:')\n",
    "print(Sx)\n",
    "\n",
    "print('Sy:')\n",
    "print(Sy)\n",
    "    "
   ]
  },
  {
   "cell_type": "code",
   "execution_count": 32,
   "id": "52424fb1-d983-4932-9e76-eeb77972211a",
   "metadata": {
    "tags": []
   },
   "outputs": [
    {
     "name": "stdout",
     "output_type": "stream",
     "text": [
      "S:\n",
      "[[  0.03   0.15   0.     1.19]\n",
      " [  0.15   5.3   -0.09  25.77]\n",
      " [  0.    -0.09   0.02   0.22]\n",
      " [  1.19  25.77   0.22 350.69]]\n"
     ]
    }
   ],
   "source": [
    "S = 1/(len(X) + len(Y) - 2) * (len(X)*Sx + len(Y)*Sy)\n",
    "print('S:')\n",
    "print(S)"
   ]
  },
  {
   "cell_type": "code",
   "execution_count": 33,
   "id": "ce0e7842-58c4-4175-8d90-ca629d1478b9",
   "metadata": {
    "tags": []
   },
   "outputs": [
    {
     "name": "stdout",
     "output_type": "stream",
     "text": [
      "S⁻¹:\n",
      "[[38.45132 -0.99773 -9.48038 -0.05166]\n",
      " [-0.99773  0.37077  1.95427 -0.02506]\n",
      " [-9.48038  1.95427 59.69427 -0.14824]\n",
      " [-0.05166 -0.02506 -0.14824  0.00496]]\n"
     ]
    }
   ],
   "source": [
    "invS = np.linalg.inv(S)\n",
    "\n",
    "np.set_printoptions(precision=5)\n",
    "print('S⁻¹:')\n",
    "print(invS)"
   ]
  },
  {
   "cell_type": "code",
   "execution_count": 34,
   "id": "d8ed9475-f3ed-4ba9-ade1-9dfc7c2e0256",
   "metadata": {
    "tags": []
   },
   "outputs": [
    {
     "name": "stdout",
     "output_type": "stream",
     "text": [
      "A:\n",
      "[-14.45447   1.02758  18.96735   0.03283]\n"
     ]
    }
   ],
   "source": [
    "A = invS@(np.mean(X, axis=0)-np.mean(Y, axis=0))\n",
    "print('A:')\n",
    "print(A)"
   ]
  },
  {
   "cell_type": "code",
   "execution_count": 35,
   "id": "34c492a4-4c42-4e99-85ce-156d2a379395",
   "metadata": {
    "tags": []
   },
   "outputs": [
    {
     "name": "stdout",
     "output_type": "stream",
     "text": [
      "Ux:\n",
      "[45.39269 46.29367 44.29523 39.99118 43.18927 41.87457 38.38515]\n",
      "Uy:\n",
      "[36.20948 31.96043 30.13745 34.80429 32.0376  24.50333 29.54953]\n"
     ]
    }
   ],
   "source": [
    "Ux = X.values@A\n",
    "Uy = Y.values@A\n",
    "\n",
    "print('Ux:')\n",
    "print(Ux)\n",
    "print('Uy:')\n",
    "print(Uy)"
   ]
  },
  {
   "cell_type": "code",
   "execution_count": 36,
   "id": "079351b8-1f0d-42cd-8d73-a2c3be65638d",
   "metadata": {
    "tags": []
   },
   "outputs": [
    {
     "name": "stdout",
     "output_type": "stream",
     "text": [
      "U̅x =  42.77453796501548\n",
      "U̅y =  31.314588162337866\n"
     ]
    }
   ],
   "source": [
    "Ux_mean = np.mean(Ux)\n",
    "Uy_mean = np.mean(Uy)\n",
    "print('U̅x = ', Ux_mean)\n",
    "print('U̅y = ', Uy_mean)"
   ]
  },
  {
   "cell_type": "code",
   "execution_count": 37,
   "id": "c5391851-b33a-491a-baf1-5e80842209a1",
   "metadata": {
    "tags": []
   },
   "outputs": [
    {
     "name": "stdout",
     "output_type": "stream",
     "text": [
      "C = 37.04456306367668\n"
     ]
    }
   ],
   "source": [
    "C = (Ux_mean + Uy_mean)/2\n",
    "print('C =', C)"
   ]
  },
  {
   "cell_type": "code",
   "execution_count": 40,
   "id": "6d4b0fe6-ed79-4368-81e2-1ca4235b3533",
   "metadata": {
    "tags": []
   },
   "outputs": [
    {
     "name": "stdout",
     "output_type": "stream",
     "text": [
      "Uz0 = 37.487608140490515 > 37.04456306367668 належить до вибірки X\n",
      "Uz1 = 28.8328679886209 < 37.04456306367668 належить до вибірки Y\n"
     ]
    }
   ],
   "source": [
    "strs = ['належить до вибірки X', 'належить до вибірки Y']\n",
    "\n",
    "U = Z.values @ A\n",
    "for i in range(len(U)):\n",
    "    Uz = U[i]\n",
    "    \n",
    "    if Uz < C:\n",
    "        if Ux_mean < C:\n",
    "            print(f'Uz{i} = {Uz} < {C} {strs[0]}' )\n",
    "        else:\n",
    "            print(f'Uz{i} = {Uz} < {C} {strs[1]}' )\n",
    "    else:\n",
    "        if Ux_mean > C:\n",
    "            print(f'Uz{i} = {Uz} > {C} {strs[0]}' )\n",
    "        else:\n",
    "            print(f'Uz{i} = {Uz} > {C} {strs[1]}' )\n",
    "        \n",
    "    \n",
    "    "
   ]
  },
  {
   "cell_type": "code",
   "execution_count": null,
   "id": "30d90498-3c12-4d20-84b8-996fc573a724",
   "metadata": {},
   "outputs": [],
   "source": []
  },
  {
   "cell_type": "code",
   "execution_count": null,
   "id": "35342a89-4f51-459f-ad69-3bd2473a3a46",
   "metadata": {},
   "outputs": [],
   "source": []
  }
 ],
 "metadata": {
  "kernelspec": {
   "display_name": "Python 3 (ipykernel)",
   "language": "python",
   "name": "python3"
  },
  "language_info": {
   "codemirror_mode": {
    "name": "ipython",
    "version": 3
   },
   "file_extension": ".py",
   "mimetype": "text/x-python",
   "name": "python",
   "nbconvert_exporter": "python",
   "pygments_lexer": "ipython3",
   "version": "3.11.3"
  }
 },
 "nbformat": 4,
 "nbformat_minor": 5
}
